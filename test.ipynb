{
 "cells": [
  {
   "cell_type": "code",
   "execution_count": 4,
   "metadata": {},
   "outputs": [
    {
     "name": "stdout",
     "output_type": "stream",
     "text": [
      "2\n",
      "326.3014 222.9722 20.5102 21.3517 124.6408\n",
      "324.9404 221.6729 30.5201 35.8819 1.5218\n"
     ]
    }
   ],
   "source": [
    "# Function to process text data from a file and output values\n",
    "def process_text_data_from_file(file_path):\n",
    "    with open(file_path, 'r') as file:\n",
    "        text = file.read()\n",
    "    \n",
    "    # Split the text by lines\n",
    "    lines = text.split('\\n')\n",
    "    \n",
    "    # Process each line and output the values\n",
    "    for line in lines:\n",
    "        print(line)\n",
    "\n",
    "# Example usage\n",
    "file_path = r'D:\\Exercises\\HIWI\\EllipDet-master\\Industrial\\gt\\gt_1-1.jpg.txt'\n",
    "process_text_data_from_file(file_path)"
   ]
  },
  {
   "cell_type": "code",
   "execution_count": null,
   "metadata": {},
   "outputs": [],
   "source": []
  }
 ],
 "metadata": {
  "kernelspec": {
   "display_name": "comp_vis",
   "language": "python",
   "name": "python3"
  },
  "language_info": {
   "codemirror_mode": {
    "name": "ipython",
    "version": 3
   },
   "file_extension": ".py",
   "mimetype": "text/x-python",
   "name": "python",
   "nbconvert_exporter": "python",
   "pygments_lexer": "ipython3",
   "version": "3.12.7"
  }
 },
 "nbformat": 4,
 "nbformat_minor": 2
}
